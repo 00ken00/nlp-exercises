{
 "cells": [
  {
   "cell_type": "markdown",
   "metadata": {},
   "source": [
    "◑ Read about string edit distance and the Levenshtein Algorithm. Try the implementation provided in nltk.edit_distance(). In what way is this using dynamic programming? Does it use the bottom-up or top-down approach? [See also http://norvig.com/spell-correct.html]\n",
    "\n"
   ]
  },
  {
   "cell_type": "code",
   "execution_count": 1,
   "metadata": {
    "collapsed": true,
    "deletable": true,
    "editable": true
   },
   "outputs": [],
   "source": [
    "import nltk"
   ]
  },
  {
   "cell_type": "code",
   "execution_count": 2,
   "metadata": {
    "collapsed": false,
    "deletable": true,
    "editable": true
   },
   "outputs": [
    {
     "name": "stdout",
     "output_type": "stream",
     "text": [
      "Help on function edit_distance in module nltk.metrics.distance:\n",
      "\n",
      "edit_distance(s1, s2, substitution_cost=1, transpositions=False)\n",
      "    Calculate the Levenshtein edit-distance between two strings.\n",
      "    The edit distance is the number of characters that need to be\n",
      "    substituted, inserted, or deleted, to transform s1 into s2.  For\n",
      "    example, transforming \"rain\" to \"shine\" requires three steps,\n",
      "    consisting of two substitutions and one insertion:\n",
      "    \"rain\" -> \"sain\" -> \"shin\" -> \"shine\".  These operations could have\n",
      "    been done in other orders, but at least three steps are needed.\n",
      "    \n",
      "    Allows specifying the cost of substitution edits (e.g., \"a\" -> \"b\"),\n",
      "    because sometimes it makes sense to assign greater penalties to substitutions.\n",
      "    \n",
      "    This also optionally allows transposition edits (e.g., \"ab\" -> \"ba\"),\n",
      "    though this is disabled by default.\n",
      "    \n",
      "    :param s1, s2: The strings to be analysed\n",
      "    :param transpositions: Whether to allow transposition edits\n",
      "    :type s1: str\n",
      "    :type s2: str\n",
      "    :type substitution_cost: int\n",
      "    :type transpositions: bool\n",
      "    :rtype int\n",
      "\n"
     ]
    }
   ],
   "source": [
    "help(nltk.edit_distance)  # bottom-up approach"
   ]
  }
 ],
 "metadata": {
  "kernelspec": {
   "display_name": "Python 2",
   "language": "python",
   "name": "python2"
  },
  "language_info": {
   "codemirror_mode": {
    "name": "ipython",
    "version": 2
   },
   "file_extension": ".py",
   "mimetype": "text/x-python",
   "name": "python",
   "nbconvert_exporter": "python",
   "pygments_lexer": "ipython2",
   "version": "2.7.12"
  }
 },
 "nbformat": 4,
 "nbformat_minor": 2
}
