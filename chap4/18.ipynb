{
 "cells": [
  {
   "cell_type": "markdown",
   "metadata": {
    "deletable": true,
    "editable": true
   },
   "source": [
    "◑ Write code to print out an index for a lexicon, allowing someone to look up words according to their meanings (or pronunciations; whatever properties are contained in lexical entries).\n",
    "\n"
   ]
  },
  {
   "cell_type": "code",
   "execution_count": 1,
   "metadata": {
    "collapsed": true,
    "deletable": true,
    "editable": true
   },
   "outputs": [],
   "source": [
    "import nltk"
   ]
  },
  {
   "cell_type": "code",
   "execution_count": 2,
   "metadata": {
    "collapsed": false,
    "deletable": true,
    "editable": true
   },
   "outputs": [],
   "source": [
    "from nltk.corpus import cmudict\n",
    "from nltk.corpus import wordnet\n",
    "cmudict = cmudict.dict()"
   ]
  },
  {
   "cell_type": "code",
   "execution_count": 3,
   "metadata": {
    "collapsed": false
   },
   "outputs": [
    {
     "name": "stdout",
     "output_type": "stream",
     "text": [
      "write [[u'R', u'AY1', u'T']]\n",
      "produce a literary work\n",
      "communicate or express by writing\n",
      "have (one's written work) issued for publication\n",
      "communicate (with) in writing\n",
      "communicate by letter\n",
      "write music\n",
      "mark or trace on a surface\n",
      "record data on a computer\n",
      "write or name the letters that comprise the conventionally accepted form of (a word or part of a word)\n",
      "create code, write a computer program\n",
      "code [[u'K', u'OW1', u'D']]\n",
      "a set of rules or principles or laws (especially written ones)\n",
      "a coding system used for transmitting messages requiring brevity or secrecy\n",
      "(computer science) the symbolic arrangement of data or instructions in a computer program or the set of such instructions\n",
      "attach a code to\n",
      "convert ordinary language into code\n",
      "to [[u'T', u'UW1'], [u'T', u'IH0'], [u'T', u'AH0']]\n",
      "print [[u'P', u'R', u'IH1', u'N', u'T']]\n",
      "the text appearing in a book, newspaper, or other printed publication\n",
      "a picture or design printed from an engraving\n",
      "a visible indication made on a surface\n",
      "availability in printed form\n",
      "a copy of a movie on film (especially a particular version of it)\n",
      "a fabric with a dyed pattern pressed onto it (usually by engraved rollers)\n",
      "a printed picture produced from a photographic negative\n",
      "put into print\n",
      "write as if with print; not cursive\n",
      "make into a print\n",
      "reproduce by printing\n"
     ]
    }
   ],
   "source": [
    "lexicon = [\"write\", \"code\", \"to\", \"print\"]\n",
    "\n",
    "for word in lexicon:\n",
    "    word = word.lower()\n",
    "    print word, cmudict[word]\n",
    "    for syn in wordnet.synsets(word):\n",
    "        print syn.definition()"
   ]
  }
 ],
 "metadata": {
  "kernelspec": {
   "display_name": "Python 2",
   "language": "python",
   "name": "python2"
  },
  "language_info": {
   "codemirror_mode": {
    "name": "ipython",
    "version": 2
   },
   "file_extension": ".py",
   "mimetype": "text/x-python",
   "name": "python",
   "nbconvert_exporter": "python",
   "pygments_lexer": "ipython2",
   "version": "2.7.12"
  }
 },
 "nbformat": 4,
 "nbformat_minor": 2
}
