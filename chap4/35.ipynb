{
 "cells": [
  {
   "cell_type": "markdown",
   "metadata": {
    "deletable": true,
    "editable": true
   },
   "source": [
    "★ Write a program to implement a brute-force algorithm for discovering word squares, a kind of n × n crossword in which the entry in the nth row is the same as the entry in the nth column. For discussion, see http://itre.cis.upenn.edu/~myl/languagelog/archives/002679.html\n",
    "\n"
   ]
  },
  {
   "cell_type": "code",
   "execution_count": 1,
   "metadata": {
    "collapsed": false,
    "deletable": true,
    "editable": true
   },
   "outputs": [],
   "source": [
    "def search(word_list, n, vocabulary):\n",
    "    if len(word_list) == n:\n",
    "        return [word_list]\n",
    "    \n",
    "    prefix = \"\".join(word[len(word_list)] for word in word_list)\n",
    "    this_result_list = []\n",
    "    for word in [word for word in vocabulary if word.startswith(prefix)]:\n",
    "        result = search(word_list+[word], n, vocabulary)\n",
    "        if result:\n",
    "            this_result_list += result\n",
    "    return this_result_list"
   ]
  },
  {
   "cell_type": "code",
   "execution_count": 2,
   "metadata": {
    "collapsed": false,
    "deletable": true,
    "editable": true
   },
   "outputs": [
    {
     "data": {
      "text/plain": [
       "[['ORANGUTANG',\n",
       "  'RANGARANGA',\n",
       "  'ANDOLANDOL',\n",
       "  'NGOTANGOTA',\n",
       "  'GALANGALAN',\n",
       "  'URANGUTANG',\n",
       "  'TANGATANGA',\n",
       "  'ANDOLANDOL',\n",
       "  'NGOTANGOTA',\n",
       "  'GALANGALAN'],\n",
       " ['URANGUTANG',\n",
       "  'RANGARANGA',\n",
       "  'ANDOLANDOL',\n",
       "  'NGOTANGOTA',\n",
       "  'GALANGALAN',\n",
       "  'URANGUTANG',\n",
       "  'TANGATANGA',\n",
       "  'ANDOLANDOL',\n",
       "  'NGOTANGOTA',\n",
       "  'GALANGALAN']]"
      ]
     },
     "execution_count": 2,
     "metadata": {},
     "output_type": "execute_result"
    }
   ],
   "source": [
    "vocabulary = {\n",
    "    'ANDOLANDOL',\n",
    "    'GALANGALAN',\n",
    "    'NGOTANGOTA',\n",
    "    'ORANGUTANG',\n",
    "    'RANGARANGA',\n",
    "    'TANGATANGA',\n",
    "    'URANGUTANG'\n",
    "}\n",
    "\n",
    "search([], 10, vocabulary)"
   ]
  },
  {
   "cell_type": "code",
   "execution_count": 3,
   "metadata": {
    "collapsed": false,
    "scrolled": true
   },
   "outputs": [
    {
     "name": "stdout",
     "output_type": "stream",
     "text": [
      "5384\n"
     ]
    },
    {
     "data": {
      "text/plain": [
       "[[u'aaa', u'aaa', u'aaa'],\n",
       " [u'aaa', u'abe', u'aer'],\n",
       " [u'aaa', u'abe', u'aer'],\n",
       " [u'aaa', u'abo', u'aoi'],\n",
       " [u'aaa', u'abo', u'aol'],\n",
       " [u'aaa', u'abo', u'aol'],\n",
       " [u'aaa', u'abo', u'aon'],\n",
       " [u'aaa', u'abs', u'asa'],\n",
       " [u'aaa', u'abs', u'ash'],\n",
       " [u'aaa', u'abs', u'ask']]"
      ]
     },
     "execution_count": 3,
     "metadata": {},
     "output_type": "execute_result"
    }
   ],
   "source": [
    "import nltk\n",
    "voc = nltk.corpus.cmudict.words()\n",
    "vocabulary_3 = [word for word in voc if len(word)==3][:300]  # first 300 words with len=3\n",
    "\n",
    "results = search([], 3, vocabulary_3)\n",
    "print len(results)\n",
    "results[:10]"
   ]
  }
 ],
 "metadata": {
  "kernelspec": {
   "display_name": "Python 2",
   "language": "python",
   "name": "python2"
  },
  "language_info": {
   "codemirror_mode": {
    "name": "ipython",
    "version": 2
   },
   "file_extension": ".py",
   "mimetype": "text/x-python",
   "name": "python",
   "nbconvert_exporter": "python",
   "pygments_lexer": "ipython2",
   "version": "2.7.12"
  }
 },
 "nbformat": 4,
 "nbformat_minor": 2
}
