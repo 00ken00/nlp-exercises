{
 "cells": [
  {
   "cell_type": "markdown",
   "metadata": {},
   "source": [
    "★ Develop a simple extractive summarization tool, that prints the sentences of a document which contain the highest total word frequency. Use `FreqDist()` to count word frequencies, and use sum to sum the frequencies of the words in each sentence. Rank the sentences according to their score. Finally, print the n highest-scoring sentences in document order. Carefully review the design of your program, especially your approach to this double sorting. Make sure the program is written as clearly as possible.\n",
    "\n"
   ]
  },
  {
   "cell_type": "code",
   "execution_count": 1,
   "metadata": {
    "collapsed": true
   },
   "outputs": [],
   "source": [
    "import nltk\n",
    "from heapq import heappop, heappush"
   ]
  },
  {
   "cell_type": "code",
   "execution_count": 2,
   "metadata": {
    "collapsed": true
   },
   "outputs": [],
   "source": [
    "def simple_summarization(sents, n):\n",
    "    fd = nltk.FreqDist(word for sent in sents for word in sent if word.isalpha())\n",
    "\n",
    "    h = [(0, []) for _ in range(n)]   # using heap data structure for optimization\n",
    "    for sent in sents:\n",
    "        sent_freq = sum(fd.get(word, 0) for word in sent)\n",
    "        if sent_freq > h[0][0]:\n",
    "            heappop(h)\n",
    "            heappush(h, (sent_freq, sent))\n",
    "    \n",
    "    for freq, sent in sorted(h, key=lambda x:-x[0]):\n",
    "        print \"{0} [{1}]\".format(\" \".join(sent), freq)\n",
    "        print "
   ]
  },
  {
   "cell_type": "code",
   "execution_count": 3,
   "metadata": {
    "collapsed": false
   },
   "outputs": [
    {
     "name": "stdout",
     "output_type": "stream",
     "text": [
      "And we ' re writing a new chapter in the story of self - government -- with women lining up to vote in Afghanistan , and millions of Iraqis marking their liberty with purple ink , and men and women from Lebanon to Egypt debating the rights of individuals and the necessity of freedom . [3482]\n",
      "\n",
      "In all these areas -- from the disruption of terror networks , to victory in Iraq , to the spread of freedom and hope in troubled regions -- we need the support of our friends and allies . [2726]\n",
      "\n",
      "The only way to protect our people , the only way to secure the peace , the only way to control our destiny is by our leadership -- so the United States of America will continue to lead . [2552]\n",
      "\n",
      "So to prevent another attack -- based on authority given to me by the Constitution and by statute -- I have authorized a terrorist surveillance program to aggressively pursue the international communications of suspected al Qaeda operatives and affiliates to and from America . [2495]\n",
      "\n",
      "With more research in both the public and private sectors , we will improve our quality of life -- and ensure that America will lead the world in opportunity and innovation for decades to come . [2393]\n",
      "\n",
      "Members of Congress , however we feel about the decisions and debates of the past , our nation has only one option : We must keep our word , defeat our enemies , and stand behind the American military in this vital mission . [2356]\n",
      "\n",
      "And we do not forget the other half -- in places like Syria and Burma , Zimbabwe , North Korea , and Iran -- because the demands of justice , and the peace of this world , require their freedom , as well . [2291]\n",
      "\n",
      "We will also lead a nationwide effort , working closely with African American churches and faith - based groups , to deliver rapid HIV tests to millions , end the stigma of AIDS , and come closer to the day when there are no new infections in America . [2246]\n",
      "\n",
      "I am confident in our plan for victory ; I am confident in the will of the Iraqi people ; I am confident in the skill and spirit of our military . [2205]\n",
      "\n",
      "In the last five years , the tax relief you passed has left $ 880 billion in the hands of American workers , investors , small businesses , and families -- and they have used it to help produce more than four years of uninterrupted economic growth . [2192]\n",
      "\n"
     ]
    }
   ],
   "source": [
    "sents = nltk.corpus.state_union.sents(fileids=\"2006-GWBush.txt\")\n",
    "\n",
    "simple_summarization(sents, 10)"
   ]
  }
 ],
 "metadata": {
  "kernelspec": {
   "display_name": "Python 2",
   "language": "python",
   "name": "python2"
  },
  "language_info": {
   "codemirror_mode": {
    "name": "ipython",
    "version": 2
   },
   "file_extension": ".py",
   "mimetype": "text/x-python",
   "name": "python",
   "nbconvert_exporter": "python",
   "pygments_lexer": "ipython2",
   "version": "2.7.12"
  }
 },
 "nbformat": 4,
 "nbformat_minor": 2
}
