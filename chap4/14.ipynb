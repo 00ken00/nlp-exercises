{
 "cells": [
  {
   "cell_type": "markdown",
   "metadata": {},
   "source": [
    "◑ Write a function novel10(text) that prints any word that appeared in the last 10% of a text that had not been encountered earlier.\n"
   ]
  },
  {
   "cell_type": "code",
   "execution_count": 1,
   "metadata": {
    "collapsed": true
   },
   "outputs": [],
   "source": [
    "def novel10(text):\n",
    "    cut = int(0.9*len(text))\n",
    "    t1, t2 = text[:cut], text[cut:]\n",
    "    print set(t2)-set(t1)"
   ]
  },
  {
   "cell_type": "code",
   "execution_count": 2,
   "metadata": {
    "collapsed": false
   },
   "outputs": [
    {
     "name": "stdout",
     "output_type": "stream",
     "text": [
      "set([u'stores', u'consider', u'radios', u'enemy', u'developed', u'move', u'centralized', u'Station', u'religious', u'Seekonk', u'drive-in', u'eligible', u'special-interest', u'point', u'labor', u'defray', u'affected', u'rescue', u'advantage', u'views', u'hire', u'Bay', u'know', u'advised', u'having', u'merchandise', u'severely', u'pertinent', u'name', u'trucks', u'Providence', u'level', u'list', u'Sabbath', u'Defense', u'activity', u'enforce', u'wrote', u'knowing', u'neighborhood', u'Grant', u'appoint', u'Should', u'Joseph', u'Hawksley', u'expect', u'apply', u'assembly', u'Mary', u'Speaking', u'revisions', u'fails', u'Fire', u'colonial', u'section', u'expressed', u'Along', u'dating', u'across', u'sirens', u'Central', u'clerk', u'men', u'job', u'Race', u'assemble', u'earliest', u'confronts', u'legislature', u'full-time', u'September', u'times', u'H.', u'opinion', u'residents', u'financial', u'assign', u\"Nugent's\", u'Legislative', u'organize', u'deputy', u'civil', u'Gen.', u'instances', u'Laughlin', u'Riverside', u'Notte', u'eye', u'basis', u'locally', u'intervals', u'anyone', u'call', u'vehicle', u'Such', u'hundred', u'enforcement', u'appointing', u'complete', u'form', u'statutes', u'continuous', u'CD', u'released', u'sold', u'copy', u'outline', u'grocery', u'responding', u'Narragansett', u'setup', u'examine', u'air', u'placed', u'classes', u'limit', u'believed', u'Miss', u'bet', u'Rumford', u'foods', u'shirking', u'Nugent', u'Noting', u'Raymond', u'larceny', u'perform', u'things', u'officers', u'handed', u'Falls', u'equipment', u\"state's\", u'vital', u'regulating', u'concern', u'status', u'Governor', u'regular', u'letter', u'urges', u'frequently', u'else', u'types', u'salary', u'theater', u'especially', u'variety', u'headquarters', u'drifts', u'Matching', u'$3,500', u'procurement', u'part-time', u'Track', u'responsibility', u'Atty.', u'grounds', u'review'])\n"
     ]
    }
   ],
   "source": [
    "import nltk\n",
    "\n",
    "text = nltk.corpus.brown.words(categories='news')[:10000]\n",
    "novel10(text)"
   ]
  }
 ],
 "metadata": {
  "kernelspec": {
   "display_name": "Python 2",
   "language": "python",
   "name": "python2"
  },
  "language_info": {
   "codemirror_mode": {
    "name": "ipython",
    "version": 2
   },
   "file_extension": ".py",
   "mimetype": "text/x-python",
   "name": "python",
   "nbconvert_exporter": "python",
   "pygments_lexer": "ipython2",
   "version": "2.7.12"
  }
 },
 "nbformat": 4,
 "nbformat_minor": 2
}
