{
 "cells": [
  {
   "cell_type": "markdown",
   "metadata": {},
   "source": [
    "◑ The Catalan numbers arise in many applications of combinatorial mathematics, including the counting of parse trees (6). The series can be defined as follows: C0 = 1, and Cn+1 = Σ0..n (CiCn-i).\n",
    "\n",
    "1. Write a recursive function to compute nth Catalan number Cn.\n",
    "2. Now write another function that does this computation using dynamic programming.\n",
    "3. Use the timeit module to compare the performance of these functions as n increases."
   ]
  },
  {
   "cell_type": "markdown",
   "metadata": {},
   "source": [
    "### 1."
   ]
  },
  {
   "cell_type": "code",
   "execution_count": 1,
   "metadata": {
    "collapsed": true
   },
   "outputs": [],
   "source": [
    "def catalan1(n):\n",
    "    if n == 0:\n",
    "        return 1\n",
    "    ans = 0\n",
    "    for i in xrange(n):\n",
    "        ans += catalan1(i)*catalan1(n-i-1)\n",
    "    return ans"
   ]
  },
  {
   "cell_type": "code",
   "execution_count": 2,
   "metadata": {
    "collapsed": false
   },
   "outputs": [
    {
     "data": {
      "text/plain": [
       "16796"
      ]
     },
     "execution_count": 2,
     "metadata": {},
     "output_type": "execute_result"
    }
   ],
   "source": [
    "catalan1(10)"
   ]
  },
  {
   "cell_type": "markdown",
   "metadata": {},
   "source": [
    "### 2."
   ]
  },
  {
   "cell_type": "code",
   "execution_count": 3,
   "metadata": {
    "collapsed": false
   },
   "outputs": [],
   "source": [
    "def catalan2(n):\n",
    "    c = [1]\n",
    "    for i in xrange(n):\n",
    "        ci = sum(c[j]*c[i-j] for j in xrange(i+1))\n",
    "        c.append(ci)\n",
    "    return c[-1]"
   ]
  },
  {
   "cell_type": "code",
   "execution_count": 4,
   "metadata": {
    "collapsed": false
   },
   "outputs": [
    {
     "data": {
      "text/plain": [
       "42"
      ]
     },
     "execution_count": 4,
     "metadata": {},
     "output_type": "execute_result"
    }
   ],
   "source": [
    "catalan2(5)"
   ]
  },
  {
   "cell_type": "markdown",
   "metadata": {},
   "source": [
    "### 3."
   ]
  },
  {
   "cell_type": "code",
   "execution_count": 5,
   "metadata": {
    "collapsed": true
   },
   "outputs": [],
   "source": [
    "from timeit import Timer\n",
    "\n",
    "setup_list = \"\"\"\n",
    "def catalan1(n):\n",
    "    if n == 0:\n",
    "        return 1\n",
    "    ans = 0\n",
    "    for i in xrange(n):\n",
    "        ans += catalan1(i)*catalan1(n-i-1)\n",
    "    return ans\n",
    "    \n",
    "def catalan2(n):\n",
    "    c = [1]\n",
    "    for i in xrange(n):\n",
    "        ci = sum(c[j]*c[i-j] for j in xrange(i+1))\n",
    "        c.append(ci)\n",
    "    return c[-1]\n",
    "\"\"\""
   ]
  },
  {
   "cell_type": "code",
   "execution_count": 6,
   "metadata": {
    "collapsed": false
   },
   "outputs": [
    {
     "name": "stdout",
     "output_type": "stream",
     "text": [
      "0.814872980118\n"
     ]
    }
   ],
   "source": [
    "statement = \"catalan1(14)\"\n",
    "print Timer(statement, setup_list).timeit(1)"
   ]
  },
  {
   "cell_type": "code",
   "execution_count": 7,
   "metadata": {
    "collapsed": false
   },
   "outputs": [
    {
     "name": "stdout",
     "output_type": "stream",
     "text": [
      "0.000107049942017\n"
     ]
    }
   ],
   "source": [
    "statement = \"catalan2(14)\"\n",
    "print Timer(statement, setup_list).timeit(1)"
   ]
  }
 ],
 "metadata": {
  "kernelspec": {
   "display_name": "Python 2",
   "language": "python",
   "name": "python2"
  },
  "language_info": {
   "codemirror_mode": {
    "name": "ipython",
    "version": 2
   },
   "file_extension": ".py",
   "mimetype": "text/x-python",
   "name": "python",
   "nbconvert_exporter": "python",
   "pygments_lexer": "ipython2",
   "version": "2.7.12"
  }
 },
 "nbformat": 4,
 "nbformat_minor": 2
}
