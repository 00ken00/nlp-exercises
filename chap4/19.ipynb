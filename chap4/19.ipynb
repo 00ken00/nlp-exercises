{
 "cells": [
  {
   "cell_type": "markdown",
   "metadata": {
    "deletable": true,
    "editable": true
   },
   "source": [
    "◑ Write a list comprehension that sorts a list of WordNet synsets for proximity to a given synset. For example, given the synsets ```minke_whale.n.01, orca.n.01```, ```novel.n.01```, and ```tortoise.n.01```, sort them according to their shortest_path_distance() from ```right_whale.n.01```.\n",
    "\n"
   ]
  },
  {
   "cell_type": "code",
   "execution_count": 1,
   "metadata": {
    "collapsed": false,
    "deletable": true,
    "editable": true
   },
   "outputs": [],
   "source": [
    "from nltk.corpus import wordnet\n",
    "\n",
    "def sort_synsets(start, *args):\n",
    "    nodes = []\n",
    "    for node in args:\n",
    "        nodes.append((node, start.shortest_path_distance(node)))\n",
    "    return sorted(nodes, key=lambda x:x[1])"
   ]
  },
  {
   "cell_type": "code",
   "execution_count": 2,
   "metadata": {
    "collapsed": false,
    "deletable": true,
    "editable": true,
    "scrolled": true
   },
   "outputs": [
    {
     "data": {
      "text/plain": [
       "[(Synset('lesser_rorqual.n.01'), 3),\n",
       " (Synset('killer_whale.n.01'), 5),\n",
       " (Synset('tortoise.n.01'), 12),\n",
       " (Synset('novel.n.01'), 22)]"
      ]
     },
     "execution_count": 2,
     "metadata": {},
     "output_type": "execute_result"
    }
   ],
   "source": [
    "right_whale = wordnet.synset(\"right_whale.n.01\")\n",
    "minke_whale = wordnet.synset(\"minke_whale.n.01\")\n",
    "orca = wordnet.synset(\"orca.n.01\")\n",
    "novel = wordnet.synset(\"novel.n.01\")\n",
    "tortoise = wordnet.synset(\"tortoise.n.01\")\n",
    "\n",
    "sort_synsets(right_whale, minke_whale, orca, novel, tortoise)"
   ]
  }
 ],
 "metadata": {
  "kernelspec": {
   "display_name": "Python 2",
   "language": "python",
   "name": "python2"
  },
  "language_info": {
   "codemirror_mode": {
    "name": "ipython",
    "version": 2
   },
   "file_extension": ".py",
   "mimetype": "text/x-python",
   "name": "python",
   "nbconvert_exporter": "python",
   "pygments_lexer": "ipython2",
   "version": "2.7.12"
  }
 },
 "nbformat": 4,
 "nbformat_minor": 2
}
