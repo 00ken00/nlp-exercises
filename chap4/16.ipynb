{
 "cells": [
  {
   "cell_type": "markdown",
   "metadata": {},
   "source": [
    "◑ Read up on Gematria, a method for assigning numbers to words, and for mapping between words having the same number to discover the hidden meaning of texts (http://en.wikipedia.org/wiki/Gematria, http://essenes.net/gemcal.htm).\n",
    "\n",
    "- a. Write a function gematria() that sums the numerical values of the letters of a word, according to the letter values in letter_vals:\n",
    "\n",
    "```python\n",
    ">>> letter_vals = {'a':1, 'b':2, 'c':3, 'd':4, 'e':5, 'f':80, 'g':3, 'h':8,\n",
    "... 'i':10, 'j':10, 'k':20, 'l':30, 'm':40, 'n':50, 'o':70, 'p':80, 'q':100,\n",
    "... 'r':200, 's':300, 't':400, 'u':6, 'v':6, 'w':800, 'x':60, 'y':10, 'z':7}\n",
    "```\n",
    "\n",
    "- b. Process a corpus (e.g. nltk.corpus.state_union) and for each document, count how many of its words have the number 666.\n",
    "\n",
    "- c. Write a function decode() to process a text, randomly replacing words with their Gematria equivalents, in order to discover the \"hidden meaning\" of the text."
   ]
  },
  {
   "cell_type": "markdown",
   "metadata": {},
   "source": [
    "### a."
   ]
  },
  {
   "cell_type": "code",
   "execution_count": 7,
   "metadata": {
    "collapsed": true
   },
   "outputs": [],
   "source": [
    "letter_vals = {'a':1, 'b':2, 'c':3, 'd':4, 'e':5, 'f':80, 'g':3, 'h':8,\n",
    "               'i':10, 'j':10, 'k':20, 'l':30, 'm':40, 'n':50, 'o':70, 'p':80, 'q':100,\n",
    "               'r':200, 's':300, 't':400, 'u':6, 'v':6, 'w':800, 'x':60, 'y':10, 'z':7}\n",
    "\n",
    "def gematria(word):\n",
    "    sum_val = 0\n",
    "    for letter in word:\n",
    "        sum_val += letter_vals.get(letter, 0)\n",
    "    return sum_val"
   ]
  },
  {
   "cell_type": "code",
   "execution_count": 6,
   "metadata": {
    "collapsed": false
   },
   "outputs": [
    {
     "data": {
      "text/plain": [
       "660"
      ]
     },
     "execution_count": 6,
     "metadata": {},
     "output_type": "execute_result"
    }
   ],
   "source": [
    "gematria(\"gematria\")"
   ]
  },
  {
   "cell_type": "markdown",
   "metadata": {},
   "source": [
    "### b."
   ]
  },
  {
   "cell_type": "code",
   "execution_count": 21,
   "metadata": {
    "collapsed": false,
    "scrolled": true
   },
   "outputs": [
    {
     "name": "stdout",
     "output_type": "stream",
     "text": [
      "file id               count\n",
      "1945-Truman.txt       2\n",
      "1946-Truman.txt       20\n",
      "1947-Truman.txt       1\n",
      "1948-Truman.txt       3\n",
      "1949-Truman.txt       2\n",
      "1950-Truman.txt       1\n",
      "1951-Truman.txt       0\n",
      "1953-Eisenhower.txt   1\n",
      "1954-Eisenhower.txt   6\n",
      "1955-Eisenhower.txt   5\n",
      "1956-Eisenhower.txt   1\n",
      "1957-Eisenhower.txt   2\n",
      "1958-Eisenhower.txt   5\n",
      "1959-Eisenhower.txt   1\n",
      "1960-Eisenhower.txt   5\n",
      "1961-Kennedy.txt      0\n",
      "1962-Kennedy.txt      4\n",
      "1963-Johnson.txt      0\n",
      "1963-Kennedy.txt      3\n",
      "1964-Johnson.txt      1\n",
      "1965-Johnson-1.txt    0\n",
      "1965-Johnson-2.txt    0\n",
      "1966-Johnson.txt      0\n",
      "1967-Johnson.txt      2\n",
      "1968-Johnson.txt      3\n",
      "1969-Johnson.txt      0\n",
      "1970-Nixon.txt        0\n",
      "1971-Nixon.txt        1\n",
      "1972-Nixon.txt        0\n",
      "1973-Nixon.txt        1\n",
      "1974-Nixon.txt        0\n",
      "1975-Ford.txt         0\n",
      "1976-Ford.txt         3\n",
      "1977-Ford.txt         0\n",
      "1978-Carter.txt       1\n",
      "1979-Carter.txt       2\n",
      "1980-Carter.txt       0\n",
      "1981-Reagan.txt       4\n",
      "1982-Reagan.txt       0\n",
      "1983-Reagan.txt       2\n",
      "1984-Reagan.txt       1\n",
      "1985-Reagan.txt       1\n",
      "1986-Reagan.txt       1\n",
      "1987-Reagan.txt       1\n",
      "1988-Reagan.txt       2\n",
      "1989-Bush.txt         2\n",
      "1990-Bush.txt         2\n",
      "1991-Bush-1.txt       0\n",
      "1991-Bush-2.txt       0\n",
      "1992-Bush.txt         3\n",
      "1993-Clinton.txt      1\n",
      "1994-Clinton.txt      2\n",
      "1995-Clinton.txt      1\n",
      "1996-Clinton.txt      1\n",
      "1997-Clinton.txt      1\n",
      "1998-Clinton.txt      4\n",
      "1999-Clinton.txt      1\n",
      "2000-Clinton.txt      3\n",
      "2001-GWBush-1.txt     1\n",
      "2001-GWBush-2.txt     0\n",
      "2002-GWBush.txt       0\n",
      "2003-GWBush.txt       3\n",
      "2004-GWBush.txt       2\n",
      "2005-GWBush.txt       2\n",
      "2006-GWBush.txt       0\n"
     ]
    }
   ],
   "source": [
    "import nltk\n",
    "\n",
    "print \"{0:<22}{1}\".format(\"file id\", \"count\")\n",
    "for fileid in nltk.corpus.state_union.fileids():\n",
    "    count = 0\n",
    "    for word in nltk.corpus.state_union.words(fileids=fileid):\n",
    "        count += int(gematria(word)==666)\n",
    "    print \"{0:<22}{1}\".format(fileid, count)\n"
   ]
  }
 ],
 "metadata": {
  "kernelspec": {
   "display_name": "Python 2",
   "language": "python",
   "name": "python2"
  },
  "language_info": {
   "codemirror_mode": {
    "name": "ipython",
    "version": 2
   },
   "file_extension": ".py",
   "mimetype": "text/x-python",
   "name": "python",
   "nbconvert_exporter": "python",
   "pygments_lexer": "ipython2",
   "version": "2.7.12"
  }
 },
 "nbformat": 4,
 "nbformat_minor": 2
}
