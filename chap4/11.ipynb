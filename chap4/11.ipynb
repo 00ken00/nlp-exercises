{
 "cells": [
  {
   "cell_type": "markdown",
   "metadata": {},
   "source": [
    "◑ Create a list of words and store it in a variable sent1. Now assign sent2 = sent1. Modify one of the items in sent1 and verify that sent2 has changed.\n",
    "\n",
    "1. Now try the same exercise but instead assign sent2 = sent1[:]. Modify sent1 again and see what happens to sent2. Explain.\n",
    "2. Now define text1 to be a list of lists of strings (e.g. to represent a text consisting of multiple sentences. Now assign text2 = text1[:], assign a new value to one of the words, e.g. text1[1][1] = 'Monty'. Check what this did to text2. Explain.\n",
    "3. Load Python's deepcopy() function (i.e. from copy import deepcopy), consult its documentation, and test that it makes a fresh copy of any object.\n"
   ]
  },
  {
   "cell_type": "code",
   "execution_count": 1,
   "metadata": {
    "collapsed": false
   },
   "outputs": [
    {
     "data": {
      "text/plain": [
       "['is', 'NLP', 'fun', '!']"
      ]
     },
     "execution_count": 1,
     "metadata": {},
     "output_type": "execute_result"
    }
   ],
   "source": [
    "sent1 = ['is', 'NLP', 'fun', '?']\n",
    "sent2 = sent1\n",
    "sent1[-1] = \"!\"\n",
    "sent2 "
   ]
  },
  {
   "cell_type": "code",
   "execution_count": 2,
   "metadata": {
    "collapsed": false
   },
   "outputs": [
    {
     "data": {
      "text/plain": [
       "['is', 'NLP', 'fun', '?']"
      ]
     },
     "execution_count": 2,
     "metadata": {},
     "output_type": "execute_result"
    }
   ],
   "source": [
    "# 1\n",
    "sent1 = ['is', 'NLP', 'fun', '?']\n",
    "sent2 = sent1[:]  # copy sent1 as a new list sent2\n",
    "sent1[-1] = \"!\"\n",
    "sent2 "
   ]
  },
  {
   "cell_type": "code",
   "execution_count": 3,
   "metadata": {
    "collapsed": false
   },
   "outputs": [
    {
     "data": {
      "text/plain": [
       "[['is', 'NLP', 'fun', '?'], ['NLP', 'Monty', 'fun', '!']]"
      ]
     },
     "execution_count": 3,
     "metadata": {},
     "output_type": "execute_result"
    }
   ],
   "source": [
    "# 2\n",
    "text1 = [['is', 'NLP', 'fun', '?'],\n",
    "         ['NLP', 'is', 'fun', '!']]\n",
    "text2 = text1[:]  # only copy the \"object reference\" as a new list\n",
    "text1[1][1] = 'Monty'\n",
    "text2"
   ]
  },
  {
   "cell_type": "code",
   "execution_count": 4,
   "metadata": {
    "collapsed": false
   },
   "outputs": [
    {
     "data": {
      "text/plain": [
       "[['is', 'NLP', 'fun', '?'], ['NLP', 'is', 'fun', '!']]"
      ]
     },
     "execution_count": 4,
     "metadata": {},
     "output_type": "execute_result"
    }
   ],
   "source": [
    "# 3\n",
    "from copy import deepcopy\n",
    "\n",
    "text1 = [['is', 'NLP', 'fun', '?'],\n",
    "         ['NLP', 'is', 'fun', '!']]\n",
    "text2 = deepcopy(text1)   # a fresh copy\n",
    "text1[1][1] = 'Monty'\n",
    "text2"
   ]
  }
 ],
 "metadata": {
  "kernelspec": {
   "display_name": "Python 2",
   "language": "python",
   "name": "python2"
  },
  "language_info": {
   "codemirror_mode": {
    "name": "ipython",
    "version": 2
   },
   "file_extension": ".py",
   "mimetype": "text/x-python",
   "name": "python",
   "nbconvert_exporter": "python",
   "pygments_lexer": "ipython2",
   "version": "2.7.12"
  }
 },
 "nbformat": 4,
 "nbformat_minor": 2
}
