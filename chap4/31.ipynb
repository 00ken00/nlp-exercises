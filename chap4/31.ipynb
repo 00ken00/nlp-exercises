{
 "cells": [
  {
   "cell_type": "markdown",
   "metadata": {
    "deletable": true,
    "editable": true
   },
   "source": [
    "★ Obtain some raw text, in the form of a single, long string. Use Python's `textwrap` module to break it up into multiple lines. Now write code to add extra spaces between words, in order to justify the output. Each line must have the same width, and spaces must be approximately evenly distributed across each line. No line can begin or end with a space.\n",
    "\n"
   ]
  },
  {
   "cell_type": "code",
   "execution_count": 1,
   "metadata": {
    "collapsed": false,
    "deletable": true,
    "editable": true
   },
   "outputs": [],
   "source": [
    "import textwrap\n",
    "\n",
    "def my_textwrap(text, width=70):\n",
    "    for sent in textwrap.wrap(text, width=width):\n",
    "        extra_spaces = width - len(sent)\n",
    "        words = sent.split()\n",
    "        spaces, num = divmod(extra_spaces, len(words)-1)\n",
    "        spaces += 1\n",
    "        print (\" \"*(spaces+1)).join(words[:num+1]) +\\\n",
    "              \" \"*spaces + (\" \"*spaces).join(words[num+1:])"
   ]
  },
  {
   "cell_type": "code",
   "execution_count": 2,
   "metadata": {
    "collapsed": false,
    "deletable": true,
    "editable": true
   },
   "outputs": [
    {
     "name": "stdout",
     "output_type": "stream",
     "text": [
      "Obtain  some  raw  text,  in  the  form  of a single, long string. Use\n",
      "Python's textwrap module to break it up into multiple lines. Now write\n",
      "code  to  add  extra  spaces  between  words,  in order to justify the\n",
      "output.  Each  line  must  have  the  same  width,  and spaces must be\n",
      "approximately  evenly  distributed across each line. No line can begin\n",
      "or              end              with             a             space.\n"
     ]
    }
   ],
   "source": [
    "text = \"Obtain some raw text, in the form of a single, long string. Use Python's textwrap module to break it up into multiple lines. Now write code to add extra spaces between words, in order to justify the output. Each line must have the same width, and spaces must be approximately evenly distributed across each line. No line can begin or end with a space.\"\n",
    "\n",
    "my_textwrap(text)"
   ]
  }
 ],
 "metadata": {
  "kernelspec": {
   "display_name": "Python 2",
   "language": "python",
   "name": "python2"
  },
  "language_info": {
   "codemirror_mode": {
    "name": "ipython",
    "version": 2
   },
   "file_extension": ".py",
   "mimetype": "text/x-python",
   "name": "python",
   "nbconvert_exporter": "python",
   "pygments_lexer": "ipython2",
   "version": "2.7.12"
  }
 },
 "nbformat": 4,
 "nbformat_minor": 2
}
