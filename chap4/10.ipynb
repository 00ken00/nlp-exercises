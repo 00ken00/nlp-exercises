{
 "cells": [
  {
   "cell_type": "markdown",
   "metadata": {},
   "source": [
    "☼ Write a program to sort words by length. Define a helper function cmp_len which uses the cmp comparison function on word lengths.\n",
    "\n"
   ]
  },
  {
   "cell_type": "code",
   "execution_count": 1,
   "metadata": {
    "collapsed": true
   },
   "outputs": [],
   "source": [
    "def comp_len(x, y):\n",
    "    if len(x) > len(y):\n",
    "        return 1\n",
    "    if len(x) == len(y):\n",
    "        return 0\n",
    "    if len(x) < len(y):\n",
    "        return -1"
   ]
  },
  {
   "cell_type": "code",
   "execution_count": 2,
   "metadata": {
    "collapsed": false
   },
   "outputs": [
    {
     "data": {
      "text/plain": [
       "[',',\n",
       " '.',\n",
       " 'of',\n",
       " 'of',\n",
       " 'the',\n",
       " 'and',\n",
       " 'the',\n",
       " 'Take',\n",
       " 'care',\n",
       " 'will',\n",
       " 'take',\n",
       " 'care',\n",
       " 'sense',\n",
       " 'sounds',\n",
       " 'themselves']"
      ]
     },
     "execution_count": 2,
     "metadata": {},
     "output_type": "execute_result"
    }
   ],
   "source": [
    "sent = ['Take', 'care', 'of', 'the', 'sense', ',', 'and', 'the', \n",
    "        'sounds', 'will', 'take', 'care', 'of', 'themselves', '.']\n",
    "\n",
    "sorted(sent, comp_len)"
   ]
  }
 ],
 "metadata": {
  "kernelspec": {
   "display_name": "Python 2",
   "language": "python",
   "name": "python2"
  },
  "language_info": {
   "codemirror_mode": {
    "name": "ipython",
    "version": 2
   },
   "file_extension": ".py",
   "mimetype": "text/x-python",
   "name": "python",
   "nbconvert_exporter": "python",
   "pygments_lexer": "ipython2",
   "version": "2.7.12"
  }
 },
 "nbformat": 4,
 "nbformat_minor": 2
}
