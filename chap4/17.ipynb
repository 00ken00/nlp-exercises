{
 "cells": [
  {
   "cell_type": "markdown",
   "metadata": {
    "deletable": true,
    "editable": true
   },
   "source": [
    "◑ Write a function shorten(text, n) to process a text, omitting the n most frequently occurring words of the text. How readable is it?\n",
    "\n"
   ]
  },
  {
   "cell_type": "code",
   "execution_count": 1,
   "metadata": {
    "collapsed": true,
    "deletable": true,
    "editable": true
   },
   "outputs": [],
   "source": [
    "import nltk, re\n",
    "\n",
    "def shorten(text, n):\n",
    "    fd = nltk.FreqDist(re.findall(r\"\\w+\", text.lower()))\n",
    "    for word,_ in fd.most_common()[:n]:\n",
    "        text = re.sub(r\"\\W\"+word+r\"\\W\", ' ', text)\n",
    "    return text"
   ]
  },
  {
   "cell_type": "code",
   "execution_count": 2,
   "metadata": {
    "collapsed": true,
    "deletable": true,
    "editable": true
   },
   "outputs": [],
   "source": [
    "text = nltk.corpus.state_union.raw(fileids='2006-GWBush.txt')\n",
    "new_text = shorten(text, 10)  # delete top 10 frequently occurring words"
   ]
  },
  {
   "cell_type": "code",
   "execution_count": 3,
   "metadata": {
    "collapsed": false,
    "deletable": true,
    "editable": true
   },
   "outputs": [
    {
     "name": "stdout",
     "output_type": "stream",
     "text": [
      "PRESIDENT GEORGE W. BUSH'S ADDRESS BEFORE A JOINT SESSION OF THE CONGRESS ON THE STATE OF THE UNION\n",
      " \n",
      "January 31, 2006\n",
      "\n",
      "THE PRESIDENT: Thank you all. Mr. Speaker, Vice President Cheney, members of Congress, members of the Supreme Court and diplomatic corps, distinguished guests, and fellow citizens: Today our nation lost a beloved, graceful, courageous woman who called America to its founding ideals and carried on a noble dream. Tonight we are comforted by the hope of a glad reunion with the husband who was taken so long ago, and we are grateful for the good life of Coretta Scott King. (Applause.)\n",
      "\n",
      "President George W. Bush reacts to applause during his State of the Union Address at the Capitol, Tuesday, Jan. 31, 2006. White House photo by Eric DraperEvery time I'm invited to this rostrum, I'm humbled by the privilege, and mindful of the history we've seen together. We have gathered under this Capitol dome in moments of national mourning and national achievement. We have served America \n"
     ]
    }
   ],
   "source": [
    "print text[:1000]"
   ]
  },
  {
   "cell_type": "code",
   "execution_count": 4,
   "metadata": {
    "collapsed": false,
    "deletable": true,
    "editable": true,
    "scrolled": true
   },
   "outputs": [
    {
     "name": "stdout",
     "output_type": "stream",
     "text": [
      "PRESIDENT GEORGE W. BUSH'S ADDRESS BEFORE A JOINT SESSION OF THE CONGRESS ON THE STATE OF THE UNION\n",
      " \n",
      "January 31, 2006\n",
      "\n",
      "THE PRESIDENT: Thank you all. Mr. Speaker, Vice President Cheney, members Congress, members Supreme Court diplomatic corps, distinguished guests, fellow citizens: Today nation lost beloved, graceful, courageous woman who called America its founding ideals carried on noble dream. Tonight are comforted by hope glad reunion with husband who was taken so long ago, are grateful for good life Coretta Scott King. (Applause.)\n",
      "\n",
      "President George W. Bush reacts during his State Union Address at Capitol, Tuesday, Jan. 31, 2006. White House photo by Eric DraperEvery time I'm invited this rostrum, I'm humbled by privilege, mindful history ve seen together. We have gathered under this Capitol dome moments national mourning national achievement. We have served America through one most consequential periods history -- it has been my honor serve with you.\n",
      "\n",
      "In system two parties, two ch\n"
     ]
    }
   ],
   "source": [
    "print new_text[:1000]  # difficult to read"
   ]
  }
 ],
 "metadata": {
  "kernelspec": {
   "display_name": "Python 2",
   "language": "python",
   "name": "python2"
  },
  "language_info": {
   "codemirror_mode": {
    "name": "ipython",
    "version": 2
   },
   "file_extension": ".py",
   "mimetype": "text/x-python",
   "name": "python",
   "nbconvert_exporter": "python",
   "pygments_lexer": "ipython2",
   "version": "2.7.12"
  }
 },
 "nbformat": 4,
 "nbformat_minor": 2
}
