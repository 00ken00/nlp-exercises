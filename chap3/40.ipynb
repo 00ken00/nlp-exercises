{
 "cells": [
  {
   "cell_type": "markdown",
   "metadata": {},
   "source": [
    "★ Obtain raw texts from two or more genres and compute their respective reading difficulty scores as in the earlier exercise on reading difficulty. E.g. compare ABC Rural News and ABC Science News (nltk.corpus.abc). Use Punkt to perform sentence segmentation."
   ]
  },
  {
   "cell_type": "code",
   "execution_count": 1,
   "metadata": {
    "collapsed": false
   },
   "outputs": [],
   "source": [
    "import nltk\n",
    "import numpy as np\n",
    "\n",
    "def cal_ari(sents):\n",
    "    words_list = [nltk.word_tokenize(sent) for sent in sents]\n",
    "    u_w = np.average([len(w) for words in words_list for w in words])\n",
    "    u_s = np.average([len(words) for words in words_list])\n",
    "    return 4.71*u_w + 0.5*u_s - 21.43"
   ]
  },
  {
   "cell_type": "code",
   "execution_count": 2,
   "metadata": {
    "collapsed": false
   },
   "outputs": [
    {
     "name": "stdout",
     "output_type": "stream",
     "text": [
      "rural.txt:  12.6167627933\n"
     ]
    }
   ],
   "source": [
    "text = nltk.corpus.abc.raw('rural.txt')\n",
    "sents = nltk.sent_tokenize(text)\n",
    "print \"rural.txt: \", cal_ari(sents)"
   ]
  },
  {
   "cell_type": "code",
   "execution_count": 3,
   "metadata": {
    "collapsed": false
   },
   "outputs": [
    {
     "name": "stdout",
     "output_type": "stream",
     "text": [
      "science.txt:  12.7735265775\n"
     ]
    }
   ],
   "source": [
    "text = nltk.corpus.abc.raw('science.txt')\n",
    "sents = nltk.sent_tokenize(text)\n",
    "print \"science.txt: \", cal_ari(sents)"
   ]
  }
 ],
 "metadata": {
  "kernelspec": {
   "display_name": "Python 2",
   "language": "python",
   "name": "python2"
  },
  "language_info": {
   "codemirror_mode": {
    "name": "ipython",
    "version": 2
   },
   "file_extension": ".py",
   "mimetype": "text/x-python",
   "name": "python",
   "nbconvert_exporter": "python",
   "pygments_lexer": "ipython2",
   "version": "2.7.12"
  }
 },
 "nbformat": 4,
 "nbformat_minor": 2
}
