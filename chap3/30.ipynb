{
 "cells": [
  {
   "cell_type": "markdown",
   "metadata": {
    "deletable": true,
    "editable": true
   },
   "source": [
    "***\n",
    "◑ Use the Porter Stemmer to normalize some tokenized text, calling the stemmer on each word. Do the same thing with the Lancaster Stemmer and see if you observe any differences.\n",
    "\n",
    "***"
   ]
  },
  {
   "cell_type": "code",
   "execution_count": 1,
   "metadata": {
    "collapsed": true,
    "deletable": true,
    "editable": true
   },
   "outputs": [],
   "source": [
    "import nltk\n",
    "\n",
    "porter = nltk.PorterStemmer()\n",
    "lancaster = nltk.LancasterStemmer()"
   ]
  },
  {
   "cell_type": "code",
   "execution_count": 2,
   "metadata": {
    "collapsed": false,
    "deletable": true,
    "editable": true
   },
   "outputs": [],
   "source": [
    "raw = \"\"\"Use the Porter Stemmer to normalize some tokenized text, calling the stemmer on each \n",
    "word. Do the same thing with the Lancaster Stemmer and see if you observe any differences.\"\"\"\n",
    "\n",
    "tokens = nltk.word_tokenize(raw)"
   ]
  },
  {
   "cell_type": "code",
   "execution_count": 3,
   "metadata": {
    "collapsed": false,
    "deletable": true,
    "editable": true,
    "scrolled": false
   },
   "outputs": [
    {
     "name": "stdout",
     "output_type": "stream",
     "text": [
      "    original      porter   lancaster\n",
      "------------------------------------------\n",
      "         Use         use          us\n",
      "         the         the         the\n",
      "      Porter      porter        port\n",
      "     Stemmer     stemmer        stem\n",
      "          to          to          to\n",
      "   normalize      normal        norm\n",
      "        some        some         som\n",
      "   tokenized       token         tok\n",
      "        text        text        text\n",
      "           ,           ,           ,\n",
      "     calling        call         cal\n",
      "         the         the         the\n",
      "     stemmer     stemmer        stem\n",
      "          on          on          on\n",
      "        each        each        each\n",
      "        word        word        word\n",
      "           .           .           .\n",
      "          Do          Do          do\n",
      "         the         the         the\n",
      "        same        same         sam\n",
      "       thing       thing       thing\n",
      "        with        with        with\n",
      "         the         the         the\n",
      "   Lancaster     lancast     lancast\n",
      "     Stemmer     stemmer        stem\n",
      "         and         and         and\n",
      "         see         see         see\n",
      "          if          if          if\n",
      "         you         you         you\n",
      "     observe      observ      observ\n",
      "         any         ani         any\n",
      " differences      differ        diff\n",
      "           .           .           .\n"
     ]
    }
   ],
   "source": [
    "print ('{:>12s}'*3).format(\"original\", \"porter\", \"lancaster\")\n",
    "print '------------------------------------------'\n",
    "for word in tokens:\n",
    "    print ('{:>12s}'*3).format(word, \n",
    "                               porter.stem(word), \n",
    "                               lancaster.stem(word))\n"
   ]
  },
  {
   "cell_type": "code",
   "execution_count": null,
   "metadata": {
    "collapsed": true
   },
   "outputs": [],
   "source": []
  }
 ],
 "metadata": {
  "kernelspec": {
   "display_name": "Python 2",
   "language": "python",
   "name": "python2"
  },
  "language_info": {
   "codemirror_mode": {
    "name": "ipython",
    "version": 2
   },
   "file_extension": ".py",
   "mimetype": "text/x-python",
   "name": "python",
   "nbconvert_exporter": "python",
   "pygments_lexer": "ipython2",
   "version": "2.7.12"
  }
 },
 "nbformat": 4,
 "nbformat_minor": 2
}
