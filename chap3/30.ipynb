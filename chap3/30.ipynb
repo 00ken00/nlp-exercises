{
 "cells": [
  {
   "cell_type": "markdown",
   "metadata": {},
   "source": [
    "***\n",
    "◑ Use the Porter Stemmer to normalize some tokenized text, calling the stemmer on each word. Do the same thing with the Lancaster Stemmer and see if you observe any differences.\n",
    "\n",
    "***"
   ]
  },
  {
   "cell_type": "code",
   "execution_count": 1,
   "metadata": {
    "collapsed": true
   },
   "outputs": [],
   "source": [
    "import nltk\n",
    "\n",
    "porter = nltk.PorterStemmer()\n",
    "lancaster = nltk.LancasterStemmer()"
   ]
  },
  {
   "cell_type": "code",
   "execution_count": 2,
   "metadata": {
    "collapsed": true
   },
   "outputs": [],
   "source": [
    "raw = \"\"\"In earlier program examples we have often converted text to lowercase before doing \n",
    "anything with its words, e.g. set(w.lower() for w in text). By using lower(), we have \n",
    "normalized the text to lowercase so that the distinction between The and the is ignored. \n",
    "Often we want to go further than this, and strip off any affixes, a task known as stemming. \n",
    "A further step is to make sure that the resulting form is a known word in a dictionary, \n",
    "a task known as lemmatization. We discuss each of these in turn. \n",
    "First, we need to define the data we will use in this section:\"\"\"\n",
    "\n",
    "tokens = nltk.word_tokenize(raw)"
   ]
  },
  {
   "cell_type": "code",
   "execution_count": 3,
   "metadata": {
    "collapsed": false,
    "scrolled": false
   },
   "outputs": [
    {
     "name": "stdout",
     "output_type": "stream",
     "text": [
      "    original      porter   lancaster\n",
      "------------------------------------------\n",
      "          In          In          in\n",
      "     earlier     earlier         ear\n",
      "     program     program     program\n",
      "    examples      exampl      exampl\n",
      "          we          we          we\n",
      "        have        have         hav\n",
      "       often       often         oft\n",
      "   converted     convert     convert\n",
      "        text        text        text\n",
      "          to          to          to\n",
      "   lowercase    lowercas    lowercas\n",
      "      before       befor         bef\n",
      "       doing          do       doing\n",
      "    anything       anyth       anyth\n",
      "        with        with        with\n",
      "         its          it          it\n",
      "       words        word        word\n",
      "           ,           ,           ,\n",
      "         e.g         e.g         e.g\n",
      "           .           .           .\n",
      "         set         set         set\n",
      "           (           (           (\n",
      "     w.lower     w.lower     w.lower\n",
      "           (           (           (\n",
      "           )           )           )\n",
      "         for         for         for\n",
      "           w           w           w\n",
      "          in          in          in\n",
      "        text        text        text\n",
      "           )           )           )\n",
      "           .           .           .\n",
      "          By          By          by\n",
      "       using         use          us\n",
      "       lower       lower         low\n",
      "           (           (           (\n",
      "           )           )           )\n",
      "           ,           ,           ,\n",
      "          we          we          we\n",
      "        have        have         hav\n",
      "  normalized      normal        norm\n",
      "         the         the         the\n",
      "        text        text        text\n",
      "          to          to          to\n",
      "   lowercase    lowercas    lowercas\n",
      "          so          so          so\n",
      "        that        that        that\n",
      "         the         the         the\n",
      " distinction    distinct    distinct\n",
      "     between     between     between\n",
      "         The         the         the\n",
      "         and         and         and\n",
      "         the         the         the\n",
      "          is          is          is\n",
      "     ignored       ignor         ign\n",
      "           .           .           .\n",
      "       Often       often         oft\n",
      "          we          we          we\n",
      "        want        want        want\n",
      "          to          to          to\n",
      "          go          go          go\n",
      "     further     further       furth\n",
      "        than        than        than\n",
      "        this         thi         thi\n",
      "           ,           ,           ,\n",
      "         and         and         and\n",
      "       strip       strip       strip\n",
      "         off         off         off\n",
      "         any         ani         any\n",
      "     affixes       affix       affix\n",
      "           ,           ,           ,\n",
      "           a           a           a\n",
      "        task        task        task\n",
      "       known       known       known\n",
      "          as          as          as\n",
      "    stemming        stem        stem\n",
      "           .           .           .\n",
      "           A           A           a\n",
      "     further     further       furth\n",
      "        step        step        step\n",
      "          is          is          is\n",
      "          to          to          to\n",
      "        make        make         mak\n",
      "        sure        sure         sur\n",
      "        that        that        that\n",
      "         the         the         the\n",
      "   resulting      result      result\n",
      "        form        form        form\n",
      "          is          is          is\n",
      "           a           a           a\n",
      "       known       known       known\n",
      "        word        word        word\n",
      "          in          in          in\n",
      "           a           a           a\n",
      "  dictionary  dictionari        dict\n",
      "           ,           ,           ,\n",
      "           a           a           a\n",
      "        task        task        task\n",
      "       known       known       known\n",
      "          as          as          as\n",
      "lemmatization      lemmat         lem\n",
      "           .           .           .\n",
      "          We          We          we\n",
      "     discuss     discuss     discuss\n",
      "        each        each        each\n",
      "          of          of          of\n",
      "       these       these        thes\n",
      "          in          in          in\n",
      "        turn        turn        turn\n",
      "           .           .           .\n",
      "       First       first       first\n",
      "           ,           ,           ,\n",
      "          we          we          we\n",
      "        need        need         nee\n",
      "          to          to          to\n",
      "      define       defin       defin\n",
      "         the         the         the\n",
      "        data        data         dat\n",
      "          we          we          we\n",
      "        will        will         wil\n",
      "         use         use          us\n",
      "          in          in          in\n",
      "        this         thi         thi\n",
      "     section     section        sect\n",
      "           :           :           :\n"
     ]
    }
   ],
   "source": [
    "print ('{:>12s}'*3).format(\"original\", \"porter\", \"lancaster\")\n",
    "print '------------------------------------------'\n",
    "for word in tokens:\n",
    "    print ('{:>12s}'*3).format(word, \n",
    "                               porter.stem(word), \n",
    "                               lancaster.stem(word))\n"
   ]
  },
  {
   "cell_type": "code",
   "execution_count": null,
   "metadata": {
    "collapsed": true
   },
   "outputs": [],
   "source": []
  }
 ],
 "metadata": {
  "kernelspec": {
   "display_name": "Python 2",
   "language": "python",
   "name": "python2"
  },
  "language_info": {
   "codemirror_mode": {
    "name": "ipython",
    "version": 2
   },
   "file_extension": ".py",
   "mimetype": "text/x-python",
   "name": "python",
   "nbconvert_exporter": "python",
   "pygments_lexer": "ipython2",
   "version": "2.7.12"
  }
 },
 "nbformat": 4,
 "nbformat_minor": 2
}
