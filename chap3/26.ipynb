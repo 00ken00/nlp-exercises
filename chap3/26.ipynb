{
 "cells": [
  {
   "cell_type": "markdown",
   "metadata": {
    "deletable": true,
    "editable": true
   },
   "source": [
    "***\n",
    "\n",
    "Download some text from a language that has vowel harmony (e.g. Hungarian), extract the vowel sequences of words, and create a vowel bigram table.\n",
    "\n",
    "***"
   ]
  },
  {
   "cell_type": "code",
   "execution_count": 1,
   "metadata": {
    "collapsed": true,
    "deletable": true,
    "editable": true
   },
   "outputs": [],
   "source": [
    "import nltk, re\n",
    "from nltk.corpus import udhr"
   ]
  },
  {
   "cell_type": "code",
   "execution_count": 2,
   "metadata": {
    "collapsed": false,
    "deletable": true,
    "editable": true,
    "scrolled": true
   },
   "outputs": [
    {
     "name": "stdout",
     "output_type": "stream",
     "text": [
      "   a  e  i  u  á  é \n",
      "a  0  0 12  1  0  0 \n",
      "e  3  1  9  0  0  2 \n",
      "i  4  4  3  0  4  0 \n",
      "á  0  0  0  0  0  1 \n",
      "ó  1  0  0  0  0  0 \n",
      "ő  0  0  1  0  0  0 \n",
      "ű  0  1  0  0  0  0 \n"
     ]
    }
   ],
   "source": [
    "hungarian_words = udhr.words('Hungarian_Magyar-UTF8')\n",
    "bigram_vowel_harmony = [bvh for w in hungarian_words\n",
    "                        for bvh in re.findall(ur'[eéiíöőüűaáoóuú]{2}', w)]\n",
    "cfd = nltk.ConditionalFreqDist(bigram_vowel_harmony)\n",
    "cfd.tabulate()"
   ]
  }
 ],
 "metadata": {
  "kernelspec": {
   "display_name": "Python 2",
   "language": "python",
   "name": "python2"
  },
  "language_info": {
   "codemirror_mode": {
    "name": "ipython",
    "version": 2
   },
   "file_extension": ".py",
   "mimetype": "text/x-python",
   "name": "python",
   "nbconvert_exporter": "python",
   "pygments_lexer": "ipython2",
   "version": "2.7.12"
  }
 },
 "nbformat": 4,
 "nbformat_minor": 0
}
