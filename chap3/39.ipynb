{
 "cells": [
  {
   "cell_type": "markdown",
   "metadata": {},
   "source": [
    "★ Read the Wikipedia entry on Soundex. Implement this algorithm in Python."
   ]
  },
  {
   "cell_type": "code",
   "execution_count": 1,
   "metadata": {
    "collapsed": true
   },
   "outputs": [],
   "source": [
    "import re"
   ]
  },
  {
   "cell_type": "code",
   "execution_count": 2,
   "metadata": {
    "collapsed": false
   },
   "outputs": [],
   "source": [
    "replace_dict = {\n",
    "    r\"[aehiouwy]\": \"0\",\n",
    "    r\"[bfpv]\": \"1\",\n",
    "    r\"[cgjkqsxz]\": \"2\",\n",
    "    r\"[dt]\": \"3\",\n",
    "    r\"[l]\": \"4\",\n",
    "    r\"[mn]\": \"5\",\n",
    "    r\"[r]\": \"6\"\n",
    "}\n",
    "\n",
    "\n",
    "def soundex(word):\n",
    "    first_letter = word[0]\n",
    "    \n",
    "    word = word.lower()\n",
    "    for regex, numb in replace_dict.items():\n",
    "        word = re.sub(regex, numb, word)\n",
    "    \n",
    "    ans = word[0]\n",
    "    for c in word[1:]:\n",
    "        if not c == ans[-1]:\n",
    "            ans += c\n",
    "    ans = first_letter + ans[1:]\n",
    "    ans = re.sub(\"0\", \"\", ans)\n",
    "    ans += \"0\"*(4-len(ans))\n",
    "    return ans[:4]"
   ]
  },
  {
   "cell_type": "code",
   "execution_count": 3,
   "metadata": {
    "collapsed": false
   },
   "outputs": [
    {
     "name": "stdout",
     "output_type": "stream",
     "text": [
      "Robert R163\n",
      "Rupert R163\n",
      "Ashcroft A226\n",
      "Ashcraft A226\n",
      "Tymczak T522\n",
      "Pfister P236\n"
     ]
    }
   ],
   "source": [
    "print \"Robert\", soundex(\"Robert\")\n",
    "print \"Rupert\", soundex(\"Rupert\")\n",
    "\n",
    "print \"Ashcroft\", soundex(\"Ashcroft\")\n",
    "print  \"Ashcraft\", soundex(\"Ashcraft\")\n",
    "\n",
    "print \"Tymczak\", soundex(\"Tymczak\")\n",
    "print \"Pfister\", soundex(\"Pfister\")"
   ]
  }
 ],
 "metadata": {
  "kernelspec": {
   "display_name": "Python 2",
   "language": "python",
   "name": "python2"
  },
  "language_info": {
   "codemirror_mode": {
    "name": "ipython",
    "version": 2
   },
   "file_extension": ".py",
   "mimetype": "text/x-python",
   "name": "python",
   "nbconvert_exporter": "python",
   "pygments_lexer": "ipython2",
   "version": "2.7.12"
  }
 },
 "nbformat": 4,
 "nbformat_minor": 2
}
