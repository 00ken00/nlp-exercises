{
 "cells": [
  {
   "cell_type": "markdown",
   "metadata": {
    "deletable": true,
    "editable": true
   },
   "source": [
    "***\n",
    "◑ Python's random module includes a function choice() which randomly chooses an item from a sequence, e.g. choice(\"aehh \") will produce one of four possible characters, with the letter h being twice as frequent as the others. Write a generator expression that produces a sequence of 500 randomly chosen letters drawn from the string \"aehh \", and put this expression inside a call to the ''.join() function, to concatenate them into one long string. You should get a result that looks like uncontrolled sneezing or maniacal laughter: he  haha ee  heheeh eha. Use split() and join() again to normalize the whitespace in this string.\n",
    "\n",
    "***"
   ]
  },
  {
   "cell_type": "code",
   "execution_count": 1,
   "metadata": {
    "collapsed": true,
    "deletable": true,
    "editable": true
   },
   "outputs": [],
   "source": [
    "from random import choice"
   ]
  },
  {
   "cell_type": "code",
   "execution_count": 2,
   "metadata": {
    "collapsed": false,
    "deletable": true,
    "editable": true
   },
   "outputs": [
    {
     "name": "stdout",
     "output_type": "stream",
     "text": [
      " aa h heaaehhahaahhaahah h  eehheeahhaaehee  eaehh hehh aa a e  ehahehhh ha ehhh    ahh h ea aahhheh ea hhehhhh a haheha aa hhe aeha h hae ha heehhahehehe aeahaa h aeeah hahea hhhhaahahha   eheheaeh  hha e  eeeeahhhhhhhehhe hhahehhee eeaaeh eh haaeeeaeeee hhhehhhh h hha hh ehaeha e aahaa aaheh ehha a eehheeeaehhahhheaaeehhhaee h h eeh   a hhhhhaha  haheeehh aaa h hehe h e h ahaaeeeaee h hha heh   e aheh e hahhea hhhahhaaahhahhhhhehhaaaehh e eeaah  hhahhehahh hha hhhee eheahh hahhhhhhhaeh heehhhe\n"
     ]
    }
   ],
   "source": [
    "seq = []\n",
    "for _ in xrange(500):\n",
    "    seq.append(choice(\"aehh \"))\n",
    "text = ''.join(seq)\n",
    "print text"
   ]
  },
  {
   "cell_type": "code",
   "execution_count": 3,
   "metadata": {
    "collapsed": false,
    "deletable": true,
    "editable": true
   },
   "outputs": [
    {
     "name": "stdout",
     "output_type": "stream",
     "text": [
      "aa h heaaehhahaahhaahah h eehheeahhaaehee eaehh hehh aa a e ehahehhh ha ehhh ahh h ea aahhheh ea hhehhhh a haheha aa hhe aeha h hae ha heehhahehehe aeahaa h aeeah hahea hhhhaahahha eheheaeh hha e eeeeahhhhhhhehhe hhahehhee eeaaeh eh haaeeeaeeee hhhehhhh h hha hh ehaeha e aahaa aaheh ehha a eehheeeaehhahhheaaeehhhaee h h eeh a hhhhhaha haheeehh aaa h hehe h e h ahaaeeeaee h hha heh e aheh e hahhea hhhahhaaahhahhhhhehhaaaehh e eeaah hhahhehahh hha hhhee eheahh hahhhhhhhaeh heehhhe\n"
     ]
    }
   ],
   "source": [
    "seq = text.split()\n",
    "text = ' '.join(seq)\n",
    "print text"
   ]
  }
 ],
 "metadata": {
  "kernelspec": {
   "display_name": "Python 2",
   "language": "python",
   "name": "python2"
  },
  "language_info": {
   "codemirror_mode": {
    "name": "ipython",
    "version": 2
   },
   "file_extension": ".py",
   "mimetype": "text/x-python",
   "name": "python",
   "nbconvert_exporter": "python",
   "pygments_lexer": "ipython2",
   "version": "2.7.12"
  }
 },
 "nbformat": 4,
 "nbformat_minor": 2
}
