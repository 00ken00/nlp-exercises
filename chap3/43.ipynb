{
 "cells": [
  {
   "cell_type": "markdown",
   "metadata": {},
   "source": [
    "★ With the help of a multilingual corpus such as the Universal Declaration of Human Rights Corpus (nltk.corpus.udhr), and NLTK's frequency distribution and rank correlation functionality (nltk.FreqDist, nltk.spearman_correlation), develop a system that guesses the language of a previously unseen text. For simplicity, work with a single character encoding and just a few languages."
   ]
  },
  {
   "cell_type": "code",
   "execution_count": 1,
   "metadata": {
    "collapsed": true
   },
   "outputs": [],
   "source": [
    "import nltk"
   ]
  },
  {
   "cell_type": "code",
   "execution_count": 2,
   "metadata": {
    "collapsed": true
   },
   "outputs": [],
   "source": [
    "def find_rank(words):\n",
    "    fd = nltk.FreqDist(c for word in words for c in word)\n",
    "    return [(item[0], rank) for rank, item in enumerate(fd.most_common())]"
   ]
  },
  {
   "cell_type": "code",
   "execution_count": 3,
   "metadata": {
    "collapsed": false
   },
   "outputs": [],
   "source": [
    "rank_dict = {}\n",
    "rank_dict[\"english\"] = find_rank(nltk.corpus.udhr.words(fileids='English-Latin1'))\n",
    "rank_dict[\"german\"] = find_rank(nltk.corpus.udhr.words(fileids='German_Deutsch-Latin1'))\n",
    "rank_dict[\"spanish\"] = find_rank(nltk.corpus.udhr.words(fileids='Spanish-Latin1'))\n",
    "rank_dict[\"french\"] = find_rank(nltk.corpus.udhr.words(fileids='French_Francais-Latin1'))"
   ]
  },
  {
   "cell_type": "code",
   "execution_count": 4,
   "metadata": {
    "collapsed": true
   },
   "outputs": [],
   "source": [
    "def guess_language(words):\n",
    "    ans = \"\"\n",
    "    max_corr = 0\n",
    "    this_rank = find_rank(words)\n",
    "    for language, rank in rank_dict.items():\n",
    "        corr = nltk.spearman_correlation(this_rank, rank)\n",
    "        if corr > max_corr:\n",
    "            ans = language\n",
    "            max_corr = corr\n",
    "    return ans, max_corr"
   ]
  },
  {
   "cell_type": "code",
   "execution_count": 5,
   "metadata": {
    "collapsed": false,
    "scrolled": true
   },
   "outputs": [
    {
     "data": {
      "text/plain": [
       "('english', 0.7361244019138756)"
      ]
     },
     "execution_count": 5,
     "metadata": {},
     "output_type": "execute_result"
    }
   ],
   "source": [
    "guess_language(nltk.corpus.brown.words()) # english"
   ]
  },
  {
   "cell_type": "code",
   "execution_count": 6,
   "metadata": {
    "collapsed": false
   },
   "outputs": [
    {
     "data": {
      "text/plain": [
       "('french', 0.8349489795918368)"
      ]
     },
     "execution_count": 6,
     "metadata": {},
     "output_type": "execute_result"
    }
   ],
   "source": [
    "guess_language(nltk.corpus.genesis.words(fileids='french.txt')) # french"
   ]
  }
 ],
 "metadata": {
  "kernelspec": {
   "display_name": "Python 2",
   "language": "python",
   "name": "python2"
  },
  "language_info": {
   "codemirror_mode": {
    "name": "ipython",
    "version": 2
   },
   "file_extension": ".py",
   "mimetype": "text/x-python",
   "name": "python",
   "nbconvert_exporter": "python",
   "pygments_lexer": "ipython2",
   "version": "2.7.12"
  }
 },
 "nbformat": 4,
 "nbformat_minor": 2
}
