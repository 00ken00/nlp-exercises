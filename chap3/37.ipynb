{
 "cells": [
  {
   "cell_type": "markdown",
   "metadata": {
    "deletable": true,
    "editable": true
   },
   "source": [
    "◑ Read about the re.sub() function for string substitution using regular expressions, using help(re.sub) and by consulting the further readings for this chapter. Use re.sub in writing code to remove HTML tags from an HTML file, and to normalize whitespace."
   ]
  },
  {
   "cell_type": "code",
   "execution_count": 1,
   "metadata": {
    "collapsed": false
   },
   "outputs": [],
   "source": [
    "import urllib, re\n",
    "url = \"http://www.lolcatbible.com/index.php?title=How_to_speak_lolcat\"\n",
    "\n",
    "response = urllib.urlopen(url)\n",
    "raw = response.read().decode('utf8')"
   ]
  },
  {
   "cell_type": "code",
   "execution_count": 2,
   "metadata": {
    "collapsed": false,
    "scrolled": false
   },
   "outputs": [
    {
     "name": "stdout",
     "output_type": "stream",
     "text": [
      " How to speak lolcat - LOLCat Bible Translation Project How to speak lolcat From LOLCat Bible Translation Project Jump to: navigation, search Contents 1 Oh hai thare 2 General Spelling Rule: Homonymous Misspellings 3 mai mispelins, lemme show yu dem 4 ai can has pronowns? 5 pls dun be abusin teh txtspeak, kthx 6 Srsly. 7 T3st. Oh hai thare So you want to speak lolcat? It isn't very easy and you may end up with some kitty scratches in the end. The purpose of this page is to offer help on proper lolcat syntax and grammar. Don't worry if you don't get it at first. It takes some practice but in the end you'll end up with proper lolcat that is both cute and funny. This isn't fully written though. I shall be doing that soon. For now, if you really want a crash course go to icanhascheezburger and read the comments there. These are the experts. Yes, really. Here we go! General Spelling Rule: Homonymous Misspellings While some of the rules about spelling pertain to common typing errors, baby-talk, kindergarten misspellings and community-specific mannerisms found on online message boards, the important skill is to learn when using lolspeak is how to borrow the spelling of certain parts of one word to misspell another word that shares certain phonetic sounds (or that just rhymes). You can mix them around like this: ghost -&gt; goast or ghoast (borrowing from \"toast\" or \"coast\") feet -&gt; feat (borrowing from \"meat\" or \"heat\") moan -&gt; mown (borrowing from \"own\" or \"mow\") crowd -&gt; croud (borrowing from \"cloud\" or \"found\") nothing -&gt; nuthing (borrowing from the typical sound of the letter \"u\" as in \"umbrella\" or \"hut\") This works best when borrowing from real English words and just replacing/adding (clusters of) consonants. However, it's also sometimes important to avoid instances where the misspelling of one word would produce the correct spelling of another word. (i.e. \"crowd\" and \"crowed\"). In effect, the words in question could come out (theoretically) as still sounding the same when read, but looking quite off... under a humorous premise that cats use very simple logic in spelling: 1 phonetic sound, 1 spelling (which is actually true for many languages). mai mispelins, lemme show yu dem In lolcat speak, a lot of words are misspelled. Think baby talk, but with a cat flair. This is probably one of the hardest parts to get down correctly. Below are some common misspelling patterns. \"eye\" sounds are almost always rendered into ai, unless it just doesn't fit into the word. Most words that end in the \"eye\" sound can benefit from this set up. However, it appears that \"ight\" configurations don't benefit from using ai. Instead, change \"ight\" to \"iet\". Hi -&gt; hai I -&gt; ai Words that end in a silent \"e\" that have a consonant before often exchange the two last letters. However, it works better for some words than for others, so some discretion is advisable. kite -&gt; kiet like -&gt; liek come -&gt; coem came -&gt; caem bake -&gt; baek plate -&gt; plaet A good exception to this rule is \"dude\" which is rendered into \"dood\" or \"d00d\". Another note of interest are words that end in \"er\". Either you'll end up dropping the \"e\", replacing it with \"u\", or changing the ending to \"ah\". Both ways are acceptable. over -&gt; ovah, ovur, ovr hover -&gt; hovah, hovr peeker -&gt; peekah, peekr Diphthongs (multiple vowel sounds in one syllable) are often exaggerated or misplaced Baby -&gt; baybeh Youtube -&gt; Yewtoob, Yewtewb, Yootoob loud -&gt; lowd couch -&gt; cowch Words that end in -y are often instead written to end in -eh. kitty -&gt; kitteh or kittah funny -&gt; funneh baby -&gt; baybeh, behbeh \"Th\" sounds are usually replaced with \"f\", but can occasionally be replaced with \"tt\" or \"dd\". Rarely will the \"th\" be kept. Nothing -&gt; Nofin, nuttin, etc Three -&gt; tree, free, fwee, twee With -&gt; wif An \"s\" (or an occasional \"z\") may be affixed to nouns of a certain magnitude of importance (perhaps to express a cat's misunderstanding of an important thing of which only 1 exists). This works excellently with the \"th\" rule above. (borrowing from popular usage in \"internets/interwebs\") Earth -&gt; Urfs Eternity -&gt; eternitys. (although forevur probably works better since guidelines recommend avoiding eschatological jargon) Add \"d\" or \"ed\" to atypical spellings of past-tense verbs/verbals or their present-tense forms. made -&gt; maded ate -&gt; eated As a corollary, the word generated by the previous rule may be ended with an \"ing\" to form the occasional lolcat future-tense. eating it -&gt; eateding it Switch \"le\" endings with \"el\" or sometimes \"ul\". little -&gt; littel or littul handle -&gt; handel or handul ai can has pronowns? Pronouns are almost destroyed in lolcat. Here are some examples: Misspellings I -&gt; ai (Sometimes I works better.) I am -&gt; Iz me -&gt; meh you -&gt; yu, U Plural-&gt; yuz them -&gt; dem Substitutions he -&gt; him his -&gt; him she -&gt; her hers -&gt; her they -&gt; dem their -&gt; dem Him and her are abused. He went to the store and came back with nothing. He is very bad! Him goed to teh stowr an caem bak wif nofin! Him is vewee wet! I am trying to sleep. Could you please be quiet? Iz tryin to slepe. Yu be kwyet, kthx? She likes his taste in clothes a lot. I bet she dates him for that! Her liek him tayst in clofes lotz. Ai fink her dait him for dat! They keep looking over here. Maybe there is a stain on my shirt? Dey kep lukin ovah heer. oh noes! Iz has stane on mah shurt, oh noes! pls dun be abusin teh txtspeak, kthx An important distinction is that lolcatspeak is not txtspeak. Here is a comparison: English: *Hi, I was wondering if you could come down here at about 3PM. Will that be fine? TxtSpeak: hi was wndrng u cud cme dwn @ 3, k? lolcat: O hai! Iz wunderin, yu can has go to heer at 3? kthxbai. TxtSpeak's main purpose is to shorten the amount of keys needed to get the message across. This is not lolcat speak. Srsly. Abundant use of the word \"srsly\" is necessary. -An thenn tehy wuz al ded. Srsly. (Exodus 1) And frequent use of \"an stuff(s)\" is also acceptable. -Oh hai Ceiling Cat iz liek meowin' at ur luvs 4 uz, an stuffs. (Psalm 89) T3st. Want to see how well you've learned LOLcat? here's the test! What does this say: Test 1: an teh ppl wen 2 teh pien tre and seds \"o hai. we luvs ar pien tre!!!1!\" srsly. The people went to the pine tree and said, \"Oh hi. We love our pine tree!\" Seriously. Test 2: Oh Hai. Iz likes pai Hello, I like pie. Test 3: ai can has peec uv pai? Can I please have a piece of pie? Test 4: i can haz cheezburger&nbsp;? Can I have a cheese burger&nbsp;? How well did you do? Good luck reading! Retrieved from \"http://www.lolcatbible.com/index.php?title=How_to_speak_lolcat\" Views Page Discussion View source History Personal tools Log in / create account Navigation Main Page Community portal Recent changes Random page Guidelines Learn lolcat Ceiling Cat Prayer Proof of Ceiling Cat Press Search &nbsp; Toolbox What links here Related changes Special pages Printable version Permanent link This page was last modified on 18 December 2011, at 07:18. This page has been accessed 232,280 times. Content is available under GNU Free Documentation License 1.2. About LOLCat Bible Translation Project \n"
     ]
    }
   ],
   "source": [
    "raw = re.sub(r\"<script.*?>.*?</script>\", \"\", raw, flags=re.DOTALL)\n",
    "raw = re.sub(r\"<.*?>\", \"\", raw, flags=re.DOTALL)\n",
    "raw = re.sub(r\"\\s+\", \" \", raw)\n",
    "\n",
    "print raw"
   ]
  }
 ],
 "metadata": {
  "kernelspec": {
   "display_name": "Python 2",
   "language": "python",
   "name": "python2"
  },
  "language_info": {
   "codemirror_mode": {
    "name": "ipython",
    "version": 2
   },
   "file_extension": ".py",
   "mimetype": "text/x-python",
   "name": "python",
   "nbconvert_exporter": "python",
   "pygments_lexer": "ipython2",
   "version": "2.7.12"
  }
 },
 "nbformat": 4,
 "nbformat_minor": 2
}
